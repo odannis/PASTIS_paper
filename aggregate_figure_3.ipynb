{
 "cells": [
  {
   "cell_type": "code",
   "execution_count": 2,
   "metadata": {},
   "outputs": [],
   "source": [
    "from PIL import Image, ImageDraw\n",
    "import matplotlib.pyplot as plt\n",
    "\n",
    "# Paths to the 4 images\n",
    "image_paths = [\"figures/lorenz_square.png\", \"figures/OU_square.png\", \"figures/lotka_square.png\", \"figures/GrayScott_square.png\"]\n",
    "\n",
    "# Load the images\n",
    "images = [Image.open(path) for path in image_paths]\n",
    "\n",
    "# Ensure all images have the same size\n",
    "width, height = images[0].size\n",
    "\n",
    "# Create a blank canvas for the combined image\n",
    "combined_width = 2 * width\n",
    "combined_height = 2 * height\n",
    "combined_image = Image.new(\"RGB\", (combined_width, combined_height))\n",
    "\n",
    "# Paste the images into the canvas\n",
    "combined_image.paste(images[0], (0, 0))            # Top-left\n",
    "combined_image.paste(images[1], (width, 0))       # Top-right\n",
    "combined_image.paste(images[2], (0, height))      # Bottom-left\n",
    "combined_image.paste(images[3], (width, height))  # Bottom-right\n",
    "\n",
    "# Draw black lines to separate the images\n",
    "draw = ImageDraw.Draw(combined_image)\n",
    "# Horizontal line\n",
    "move_line_up = 0.98\n",
    "draw.line([(0, height*move_line_up), (combined_width, height*move_line_up)], fill=\"black\", width=20)\n",
    "# Vertical line\n",
    "draw.line([(width, 0), (width, combined_height)], fill=\"black\", width=20)\n",
    "\n",
    "# Save or show the result\n",
    "output_path = \"figures/figure_3_combined_image.pdf\"\n",
    "combined_image.save(output_path, \"PDF\")\n",
    "output_path = \"figures/figure_3_combined_image.png\"\n",
    "combined_image.save(output_path)\n",
    "combined_image.show()"
   ]
  }
 ],
 "metadata": {
  "kernelspec": {
   "display_name": "Python 3",
   "language": "python",
   "name": "python3"
  },
  "language_info": {
   "codemirror_mode": {
    "name": "ipython",
    "version": 3
   },
   "file_extension": ".py",
   "mimetype": "text/x-python",
   "name": "python",
   "nbconvert_exporter": "python",
   "pygments_lexer": "ipython3",
   "version": "3.11.2"
  }
 },
 "nbformat": 4,
 "nbformat_minor": 2
}
